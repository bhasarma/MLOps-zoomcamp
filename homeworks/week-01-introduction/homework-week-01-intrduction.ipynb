{
 "cells": [
  {
   "cell_type": "markdown",
   "id": "a0a265bf",
   "metadata": {},
   "source": [
    "# Homework 1 <br>\n",
    "\n",
    "## Week -01\n",
    "\n",
    "## MLOps Zoomcamp\n",
    "\n",
    "Link to the [homework](https://github.com/DataTalksClub/mlops-zoomcamp/blob/main/cohorts/2023/01-intro/homework.md)"
   ]
  },
  {
   "cell_type": "markdown",
   "id": "e78ea92f",
   "metadata": {},
   "source": [
    "The goal of this homework is to train a simple model for predicting the duration of a ride - similar to what we did in this module."
   ]
  },
  {
   "cell_type": "markdown",
   "id": "63c98729",
   "metadata": {},
   "source": [
    "## Q1. Downloading the data\n",
    "\n",
    "We'll use [the same NYC taxi dataset](https://www1.nyc.gov/site/tlc/about/tlc-trip-record-data.page),\n",
    "but instead of \"**Green** Taxi Trip Records\", we'll use \"**Yellow** Taxi Trip Records\".\n",
    "\n",
    "Download the data for January and February 2022.\n",
    "\n",
    "Read the data for January. How many columns are there?\n",
    "\n",
    "* 16\n",
    "* 17\n",
    "* 18\n",
    "* 19"
   ]
  },
  {
   "cell_type": "code",
   "execution_count": 1,
   "id": "b989e4c3",
   "metadata": {},
   "outputs": [
    {
     "name": "stdout",
     "output_type": "stream",
     "text": [
      "data  homework-week-01-intrduction.ipynb\r\n"
     ]
    }
   ],
   "source": [
    "!ls"
   ]
  },
  {
   "cell_type": "code",
   "execution_count": 2,
   "id": "8c52ca6a",
   "metadata": {},
   "outputs": [],
   "source": [
    "#!mkdir data"
   ]
  },
  {
   "cell_type": "code",
   "execution_count": 3,
   "id": "06bb59fe",
   "metadata": {},
   "outputs": [
    {
     "name": "stdout",
     "output_type": "stream",
     "text": [
      "/home/bsarma/git_workspace/MLOps-zoomcamp/homeworks/week-01-introduction/data\n"
     ]
    }
   ],
   "source": [
    "%cd data/"
   ]
  },
  {
   "cell_type": "code",
   "execution_count": 4,
   "id": "53bf476f",
   "metadata": {},
   "outputs": [
    {
     "name": "stdout",
     "output_type": "stream",
     "text": [
      "/home/bsarma/git_workspace/MLOps-zoomcamp/homeworks/week-01-introduction/data\r\n"
     ]
    }
   ],
   "source": [
    "!pwd"
   ]
  },
  {
   "cell_type": "code",
   "execution_count": 5,
   "id": "c3ccb8fb",
   "metadata": {},
   "outputs": [
    {
     "name": "stdout",
     "output_type": "stream",
     "text": [
      "yellow_tripdata_2022-01.parquet  yellow_tripdata_2022-02.parquet\r\n"
     ]
    }
   ],
   "source": [
    "ls"
   ]
  },
  {
   "cell_type": "code",
   "execution_count": 6,
   "id": "1a7af485",
   "metadata": {},
   "outputs": [],
   "source": [
    "#!wget https://d37ci6vzurychx.cloudfront.net/trip-data/yellow_tripdata_2022-01.parquet"
   ]
  },
  {
   "cell_type": "code",
   "execution_count": 7,
   "id": "ecf2f707",
   "metadata": {},
   "outputs": [],
   "source": [
    "#!wget https://d37ci6vzurychx.cloudfront.net/trip-data/yellow_tripdata_2022-02.parquet"
   ]
  },
  {
   "cell_type": "code",
   "execution_count": 8,
   "id": "26a26c38",
   "metadata": {},
   "outputs": [
    {
     "name": "stdout",
     "output_type": "stream",
     "text": [
      "yellow_tripdata_2022-01.parquet  yellow_tripdata_2022-02.parquet\r\n"
     ]
    }
   ],
   "source": [
    "!ls"
   ]
  },
  {
   "cell_type": "code",
   "execution_count": 9,
   "id": "4e1a1e38",
   "metadata": {},
   "outputs": [],
   "source": [
    "import pandas as pd"
   ]
  },
  {
   "cell_type": "code",
   "execution_count": 10,
   "id": "47bd02ee",
   "metadata": {},
   "outputs": [],
   "source": [
    "df = pd.read_parquet('yellow_tripdata_2022-01.parquet')"
   ]
  },
  {
   "cell_type": "code",
   "execution_count": 11,
   "id": "b43173ce",
   "metadata": {},
   "outputs": [],
   "source": [
    "#!pip install pyarrow"
   ]
  },
  {
   "cell_type": "code",
   "execution_count": 12,
   "id": "e65263ea",
   "metadata": {},
   "outputs": [
    {
     "data": {
      "text/html": [
       "<div>\n",
       "<style scoped>\n",
       "    .dataframe tbody tr th:only-of-type {\n",
       "        vertical-align: middle;\n",
       "    }\n",
       "\n",
       "    .dataframe tbody tr th {\n",
       "        vertical-align: top;\n",
       "    }\n",
       "\n",
       "    .dataframe thead th {\n",
       "        text-align: right;\n",
       "    }\n",
       "</style>\n",
       "<table border=\"1\" class=\"dataframe\">\n",
       "  <thead>\n",
       "    <tr style=\"text-align: right;\">\n",
       "      <th></th>\n",
       "      <th>0</th>\n",
       "      <th>1</th>\n",
       "      <th>2</th>\n",
       "      <th>3</th>\n",
       "      <th>4</th>\n",
       "    </tr>\n",
       "  </thead>\n",
       "  <tbody>\n",
       "    <tr>\n",
       "      <th>VendorID</th>\n",
       "      <td>1</td>\n",
       "      <td>1</td>\n",
       "      <td>2</td>\n",
       "      <td>2</td>\n",
       "      <td>2</td>\n",
       "    </tr>\n",
       "    <tr>\n",
       "      <th>tpep_pickup_datetime</th>\n",
       "      <td>2022-01-01 00:35:40</td>\n",
       "      <td>2022-01-01 00:33:43</td>\n",
       "      <td>2022-01-01 00:53:21</td>\n",
       "      <td>2022-01-01 00:25:21</td>\n",
       "      <td>2022-01-01 00:36:48</td>\n",
       "    </tr>\n",
       "    <tr>\n",
       "      <th>tpep_dropoff_datetime</th>\n",
       "      <td>2022-01-01 00:53:29</td>\n",
       "      <td>2022-01-01 00:42:07</td>\n",
       "      <td>2022-01-01 01:02:19</td>\n",
       "      <td>2022-01-01 00:35:23</td>\n",
       "      <td>2022-01-01 01:14:20</td>\n",
       "    </tr>\n",
       "    <tr>\n",
       "      <th>passenger_count</th>\n",
       "      <td>2.0</td>\n",
       "      <td>1.0</td>\n",
       "      <td>1.0</td>\n",
       "      <td>1.0</td>\n",
       "      <td>1.0</td>\n",
       "    </tr>\n",
       "    <tr>\n",
       "      <th>trip_distance</th>\n",
       "      <td>3.8</td>\n",
       "      <td>2.1</td>\n",
       "      <td>0.97</td>\n",
       "      <td>1.09</td>\n",
       "      <td>4.3</td>\n",
       "    </tr>\n",
       "    <tr>\n",
       "      <th>RatecodeID</th>\n",
       "      <td>1.0</td>\n",
       "      <td>1.0</td>\n",
       "      <td>1.0</td>\n",
       "      <td>1.0</td>\n",
       "      <td>1.0</td>\n",
       "    </tr>\n",
       "    <tr>\n",
       "      <th>store_and_fwd_flag</th>\n",
       "      <td>N</td>\n",
       "      <td>N</td>\n",
       "      <td>N</td>\n",
       "      <td>N</td>\n",
       "      <td>N</td>\n",
       "    </tr>\n",
       "    <tr>\n",
       "      <th>PULocationID</th>\n",
       "      <td>142</td>\n",
       "      <td>236</td>\n",
       "      <td>166</td>\n",
       "      <td>114</td>\n",
       "      <td>68</td>\n",
       "    </tr>\n",
       "    <tr>\n",
       "      <th>DOLocationID</th>\n",
       "      <td>236</td>\n",
       "      <td>42</td>\n",
       "      <td>166</td>\n",
       "      <td>68</td>\n",
       "      <td>163</td>\n",
       "    </tr>\n",
       "    <tr>\n",
       "      <th>payment_type</th>\n",
       "      <td>1</td>\n",
       "      <td>1</td>\n",
       "      <td>1</td>\n",
       "      <td>2</td>\n",
       "      <td>1</td>\n",
       "    </tr>\n",
       "    <tr>\n",
       "      <th>fare_amount</th>\n",
       "      <td>14.5</td>\n",
       "      <td>8.0</td>\n",
       "      <td>7.5</td>\n",
       "      <td>8.0</td>\n",
       "      <td>23.5</td>\n",
       "    </tr>\n",
       "    <tr>\n",
       "      <th>extra</th>\n",
       "      <td>3.0</td>\n",
       "      <td>0.5</td>\n",
       "      <td>0.5</td>\n",
       "      <td>0.5</td>\n",
       "      <td>0.5</td>\n",
       "    </tr>\n",
       "    <tr>\n",
       "      <th>mta_tax</th>\n",
       "      <td>0.5</td>\n",
       "      <td>0.5</td>\n",
       "      <td>0.5</td>\n",
       "      <td>0.5</td>\n",
       "      <td>0.5</td>\n",
       "    </tr>\n",
       "    <tr>\n",
       "      <th>tip_amount</th>\n",
       "      <td>3.65</td>\n",
       "      <td>4.0</td>\n",
       "      <td>1.76</td>\n",
       "      <td>0.0</td>\n",
       "      <td>3.0</td>\n",
       "    </tr>\n",
       "    <tr>\n",
       "      <th>tolls_amount</th>\n",
       "      <td>0.0</td>\n",
       "      <td>0.0</td>\n",
       "      <td>0.0</td>\n",
       "      <td>0.0</td>\n",
       "      <td>0.0</td>\n",
       "    </tr>\n",
       "    <tr>\n",
       "      <th>improvement_surcharge</th>\n",
       "      <td>0.3</td>\n",
       "      <td>0.3</td>\n",
       "      <td>0.3</td>\n",
       "      <td>0.3</td>\n",
       "      <td>0.3</td>\n",
       "    </tr>\n",
       "    <tr>\n",
       "      <th>total_amount</th>\n",
       "      <td>21.95</td>\n",
       "      <td>13.3</td>\n",
       "      <td>10.56</td>\n",
       "      <td>11.8</td>\n",
       "      <td>30.3</td>\n",
       "    </tr>\n",
       "    <tr>\n",
       "      <th>congestion_surcharge</th>\n",
       "      <td>2.5</td>\n",
       "      <td>0.0</td>\n",
       "      <td>0.0</td>\n",
       "      <td>2.5</td>\n",
       "      <td>2.5</td>\n",
       "    </tr>\n",
       "    <tr>\n",
       "      <th>airport_fee</th>\n",
       "      <td>0.0</td>\n",
       "      <td>0.0</td>\n",
       "      <td>0.0</td>\n",
       "      <td>0.0</td>\n",
       "      <td>0.0</td>\n",
       "    </tr>\n",
       "  </tbody>\n",
       "</table>\n",
       "</div>"
      ],
      "text/plain": [
       "                                         0                    1   \n",
       "VendorID                                 1                    1  \\\n",
       "tpep_pickup_datetime   2022-01-01 00:35:40  2022-01-01 00:33:43   \n",
       "tpep_dropoff_datetime  2022-01-01 00:53:29  2022-01-01 00:42:07   \n",
       "passenger_count                        2.0                  1.0   \n",
       "trip_distance                          3.8                  2.1   \n",
       "RatecodeID                             1.0                  1.0   \n",
       "store_and_fwd_flag                       N                    N   \n",
       "PULocationID                           142                  236   \n",
       "DOLocationID                           236                   42   \n",
       "payment_type                             1                    1   \n",
       "fare_amount                           14.5                  8.0   \n",
       "extra                                  3.0                  0.5   \n",
       "mta_tax                                0.5                  0.5   \n",
       "tip_amount                            3.65                  4.0   \n",
       "tolls_amount                           0.0                  0.0   \n",
       "improvement_surcharge                  0.3                  0.3   \n",
       "total_amount                         21.95                 13.3   \n",
       "congestion_surcharge                   2.5                  0.0   \n",
       "airport_fee                            0.0                  0.0   \n",
       "\n",
       "                                         2                    3   \n",
       "VendorID                                 2                    2  \\\n",
       "tpep_pickup_datetime   2022-01-01 00:53:21  2022-01-01 00:25:21   \n",
       "tpep_dropoff_datetime  2022-01-01 01:02:19  2022-01-01 00:35:23   \n",
       "passenger_count                        1.0                  1.0   \n",
       "trip_distance                         0.97                 1.09   \n",
       "RatecodeID                             1.0                  1.0   \n",
       "store_and_fwd_flag                       N                    N   \n",
       "PULocationID                           166                  114   \n",
       "DOLocationID                           166                   68   \n",
       "payment_type                             1                    2   \n",
       "fare_amount                            7.5                  8.0   \n",
       "extra                                  0.5                  0.5   \n",
       "mta_tax                                0.5                  0.5   \n",
       "tip_amount                            1.76                  0.0   \n",
       "tolls_amount                           0.0                  0.0   \n",
       "improvement_surcharge                  0.3                  0.3   \n",
       "total_amount                         10.56                 11.8   \n",
       "congestion_surcharge                   0.0                  2.5   \n",
       "airport_fee                            0.0                  0.0   \n",
       "\n",
       "                                         4  \n",
       "VendorID                                 2  \n",
       "tpep_pickup_datetime   2022-01-01 00:36:48  \n",
       "tpep_dropoff_datetime  2022-01-01 01:14:20  \n",
       "passenger_count                        1.0  \n",
       "trip_distance                          4.3  \n",
       "RatecodeID                             1.0  \n",
       "store_and_fwd_flag                       N  \n",
       "PULocationID                            68  \n",
       "DOLocationID                           163  \n",
       "payment_type                             1  \n",
       "fare_amount                           23.5  \n",
       "extra                                  0.5  \n",
       "mta_tax                                0.5  \n",
       "tip_amount                             3.0  \n",
       "tolls_amount                           0.0  \n",
       "improvement_surcharge                  0.3  \n",
       "total_amount                          30.3  \n",
       "congestion_surcharge                   2.5  \n",
       "airport_fee                            0.0  "
      ]
     },
     "execution_count": 12,
     "metadata": {},
     "output_type": "execute_result"
    }
   ],
   "source": [
    "df.head().T"
   ]
  },
  {
   "cell_type": "code",
   "execution_count": 13,
   "id": "3d4ca23d",
   "metadata": {},
   "outputs": [
    {
     "data": {
      "text/plain": [
       "VendorID                          int64\n",
       "tpep_pickup_datetime     datetime64[ns]\n",
       "tpep_dropoff_datetime    datetime64[ns]\n",
       "passenger_count                 float64\n",
       "trip_distance                   float64\n",
       "RatecodeID                      float64\n",
       "store_and_fwd_flag               object\n",
       "PULocationID                      int64\n",
       "DOLocationID                      int64\n",
       "payment_type                      int64\n",
       "fare_amount                     float64\n",
       "extra                           float64\n",
       "mta_tax                         float64\n",
       "tip_amount                      float64\n",
       "tolls_amount                    float64\n",
       "improvement_surcharge           float64\n",
       "total_amount                    float64\n",
       "congestion_surcharge            float64\n",
       "airport_fee                     float64\n",
       "dtype: object"
      ]
     },
     "execution_count": 13,
     "metadata": {},
     "output_type": "execute_result"
    }
   ],
   "source": [
    "df.dtypes"
   ]
  },
  {
   "cell_type": "code",
   "execution_count": 14,
   "id": "8638725d",
   "metadata": {},
   "outputs": [
    {
     "data": {
      "text/plain": [
       "(2463931, 19)"
      ]
     },
     "execution_count": 14,
     "metadata": {},
     "output_type": "execute_result"
    }
   ],
   "source": [
    "df.shape"
   ]
  },
  {
   "cell_type": "markdown",
   "id": "f5663112",
   "metadata": {},
   "source": [
    "**Q1 Answer**\n",
    "\n",
    "`19`"
   ]
  },
  {
   "cell_type": "markdown",
   "id": "25ada351",
   "metadata": {},
   "source": [
    "## Q2. Computing duration\n",
    "\n",
    "Now let's compute the `duration` variable. It should contain the duration of a ride in minutes. \n",
    "\n",
    "What's the standard deviation of the trips duration in January?\n",
    "\n",
    "* 41.45\n",
    "* 46.45\n",
    "* 51.45\n",
    "* 56.45"
   ]
  },
  {
   "cell_type": "code",
   "execution_count": 15,
   "id": "99fd084e",
   "metadata": {},
   "outputs": [
    {
     "data": {
      "text/plain": [
       "VendorID                     0\n",
       "tpep_pickup_datetime         0\n",
       "tpep_dropoff_datetime        0\n",
       "passenger_count          71503\n",
       "trip_distance                0\n",
       "RatecodeID               71503\n",
       "store_and_fwd_flag       71503\n",
       "PULocationID                 0\n",
       "DOLocationID                 0\n",
       "payment_type                 0\n",
       "fare_amount                  0\n",
       "extra                        0\n",
       "mta_tax                      0\n",
       "tip_amount                   0\n",
       "tolls_amount                 0\n",
       "improvement_surcharge        0\n",
       "total_amount                 0\n",
       "congestion_surcharge     71503\n",
       "airport_fee              71503\n",
       "dtype: int64"
      ]
     },
     "execution_count": 15,
     "metadata": {},
     "output_type": "execute_result"
    }
   ],
   "source": [
    "df.isnull().sum()"
   ]
  },
  {
   "cell_type": "markdown",
   "id": "c6df1b9c",
   "metadata": {},
   "source": [
    "We see that there are no missing values in the columns pickup time and dropoff time"
   ]
  },
  {
   "cell_type": "code",
   "execution_count": 16,
   "id": "13c30f6e",
   "metadata": {},
   "outputs": [],
   "source": [
    "df['duration'] = df.tpep_dropoff_datetime - df.tpep_pickup_datetime"
   ]
  },
  {
   "cell_type": "code",
   "execution_count": 17,
   "id": "de1aa822",
   "metadata": {},
   "outputs": [
    {
     "data": {
      "text/html": [
       "<div>\n",
       "<style scoped>\n",
       "    .dataframe tbody tr th:only-of-type {\n",
       "        vertical-align: middle;\n",
       "    }\n",
       "\n",
       "    .dataframe tbody tr th {\n",
       "        vertical-align: top;\n",
       "    }\n",
       "\n",
       "    .dataframe thead th {\n",
       "        text-align: right;\n",
       "    }\n",
       "</style>\n",
       "<table border=\"1\" class=\"dataframe\">\n",
       "  <thead>\n",
       "    <tr style=\"text-align: right;\">\n",
       "      <th></th>\n",
       "      <th>tpep_dropoff_datetime</th>\n",
       "      <th>tpep_pickup_datetime</th>\n",
       "      <th>duration</th>\n",
       "    </tr>\n",
       "  </thead>\n",
       "  <tbody>\n",
       "    <tr>\n",
       "      <th>0</th>\n",
       "      <td>2022-01-01 00:53:29</td>\n",
       "      <td>2022-01-01 00:35:40</td>\n",
       "      <td>0 days 00:17:49</td>\n",
       "    </tr>\n",
       "    <tr>\n",
       "      <th>1</th>\n",
       "      <td>2022-01-01 00:42:07</td>\n",
       "      <td>2022-01-01 00:33:43</td>\n",
       "      <td>0 days 00:08:24</td>\n",
       "    </tr>\n",
       "    <tr>\n",
       "      <th>2</th>\n",
       "      <td>2022-01-01 01:02:19</td>\n",
       "      <td>2022-01-01 00:53:21</td>\n",
       "      <td>0 days 00:08:58</td>\n",
       "    </tr>\n",
       "    <tr>\n",
       "      <th>3</th>\n",
       "      <td>2022-01-01 00:35:23</td>\n",
       "      <td>2022-01-01 00:25:21</td>\n",
       "      <td>0 days 00:10:02</td>\n",
       "    </tr>\n",
       "    <tr>\n",
       "      <th>4</th>\n",
       "      <td>2022-01-01 01:14:20</td>\n",
       "      <td>2022-01-01 00:36:48</td>\n",
       "      <td>0 days 00:37:32</td>\n",
       "    </tr>\n",
       "  </tbody>\n",
       "</table>\n",
       "</div>"
      ],
      "text/plain": [
       "  tpep_dropoff_datetime tpep_pickup_datetime        duration\n",
       "0   2022-01-01 00:53:29  2022-01-01 00:35:40 0 days 00:17:49\n",
       "1   2022-01-01 00:42:07  2022-01-01 00:33:43 0 days 00:08:24\n",
       "2   2022-01-01 01:02:19  2022-01-01 00:53:21 0 days 00:08:58\n",
       "3   2022-01-01 00:35:23  2022-01-01 00:25:21 0 days 00:10:02\n",
       "4   2022-01-01 01:14:20  2022-01-01 00:36:48 0 days 00:37:32"
      ]
     },
     "execution_count": 17,
     "metadata": {},
     "output_type": "execute_result"
    }
   ],
   "source": [
    "df[['tpep_dropoff_datetime', 'tpep_pickup_datetime','duration']].head()"
   ]
  },
  {
   "cell_type": "code",
   "execution_count": 18,
   "id": "ef8a1812",
   "metadata": {},
   "outputs": [],
   "source": [
    "df.duration = df.duration.apply(lambda td: td.total_seconds() / 60)"
   ]
  },
  {
   "cell_type": "code",
   "execution_count": 19,
   "id": "24ed0a67",
   "metadata": {},
   "outputs": [
    {
     "data": {
      "text/plain": [
       "0    17.816667\n",
       "1     8.400000\n",
       "2     8.966667\n",
       "3    10.033333\n",
       "4    37.533333\n",
       "Name: duration, dtype: float64"
      ]
     },
     "execution_count": 19,
     "metadata": {},
     "output_type": "execute_result"
    }
   ],
   "source": [
    "df['duration'].head()"
   ]
  },
  {
   "cell_type": "code",
   "execution_count": 20,
   "id": "60ef4216",
   "metadata": {},
   "outputs": [
    {
     "data": {
      "text/plain": [
       "count   2463931.00\n",
       "mean         14.21\n",
       "std          46.45\n",
       "min       -3442.40\n",
       "25%           6.32\n",
       "50%          10.18\n",
       "75%          16.17\n",
       "max        8513.18\n",
       "Name: duration, dtype: float64"
      ]
     },
     "execution_count": 20,
     "metadata": {},
     "output_type": "execute_result"
    }
   ],
   "source": [
    "pd.set_option('display.float_format', '{:.2f}'.format)\n",
    "df['duration'].describe()"
   ]
  },
  {
   "cell_type": "code",
   "execution_count": 21,
   "id": "a87b587c",
   "metadata": {},
   "outputs": [
    {
     "data": {
      "text/plain": [
       "46.44530513776802"
      ]
     },
     "execution_count": 21,
     "metadata": {},
     "output_type": "execute_result"
    }
   ],
   "source": [
    "df['duration'].std()"
   ]
  },
  {
   "cell_type": "markdown",
   "id": "244e4dd5",
   "metadata": {},
   "source": [
    "**Q2 Answer**\n",
    "\n",
    "`46.45`"
   ]
  },
  {
   "cell_type": "markdown",
   "id": "29be273b",
   "metadata": {},
   "source": [
    "## Q3. Dropping outliers\n",
    "\n",
    "Next, we need to check the distribution of the `duration` variable. There are some outliers. Let's remove them and keep only the records where the duration was between 1 and 60 minutes (inclusive).\n",
    "\n",
    "What fraction of the records left after you dropped the outliers?\n",
    "\n",
    "* 90%\n",
    "* 92%\n",
    "* 95%\n",
    "* 98%"
   ]
  },
  {
   "cell_type": "code",
   "execution_count": 22,
   "id": "6eb0509e",
   "metadata": {},
   "outputs": [],
   "source": [
    "import seaborn as sns\n",
    "import matplotlib.pyplot as plt\n",
    "%matplotlib inline"
   ]
  },
  {
   "cell_type": "code",
   "execution_count": 18,
   "id": "19d66e31",
   "metadata": {},
   "outputs": [
    {
     "data": {
      "image/png": "[encoded data removed]",
      "text/plain": [
       "<Figure size 640x480 with 1 Axes>"
      ]
     },
     "metadata": {},
     "output_type": "display_data"
    }
   ],
   "source": [
    "sns.histplot(df['duration'])\n",
    "plt.show()"
   ]
  },
  {
   "cell_type": "code",
   "execution_count": 23,
   "id": "62851c55",
   "metadata": {},
   "outputs": [],
   "source": [
    "df_filtered = df[(df['duration']>=1) & (df['duration']<=60)]"
   ]
  },
  {
   "cell_type": "code",
   "execution_count": 23,
   "id": "401a0afe",
   "metadata": {},
   "outputs": [
    {
     "data": {
      "image/png": "[encoded data removed]",
      "text/plain": [
       "<Figure size 640x480 with 1 Axes>"
      ]
     },
     "metadata": {},
     "output_type": "display_data"
    }
   ],
   "source": [
    "sns.histplot(df_filtered['duration'])\n",
    "plt.show()"
   ]
  },
  {
   "cell_type": "code",
   "execution_count": 24,
   "id": "1e3a0c88",
   "metadata": {},
   "outputs": [
    {
     "data": {
      "text/plain": [
       "(2421440, 20)"
      ]
     },
     "execution_count": 24,
     "metadata": {},
     "output_type": "execute_result"
    }
   ],
   "source": [
    "df_filtered.shape"
   ]
  },
  {
   "cell_type": "code",
   "execution_count": 25,
   "id": "5fd83ca5",
   "metadata": {},
   "outputs": [
    {
     "data": {
      "text/plain": [
       "(2463931, 20)"
      ]
     },
     "execution_count": 25,
     "metadata": {},
     "output_type": "execute_result"
    }
   ],
   "source": [
    "df.shape"
   ]
  },
  {
   "cell_type": "code",
   "execution_count": 26,
   "id": "c26e617d",
   "metadata": {},
   "outputs": [
    {
     "data": {
      "text/plain": [
       "98.27547930522405"
      ]
     },
     "execution_count": 26,
     "metadata": {},
     "output_type": "execute_result"
    }
   ],
   "source": [
    "df_filtered.shape[0]/df.shape[0]*100"
   ]
  },
  {
   "cell_type": "markdown",
   "id": "847551c6",
   "metadata": {},
   "source": [
    "**Q3 Answer**\n",
    "\n",
    "`98%`"
   ]
  },
  {
   "cell_type": "markdown",
   "id": "e3f380a9",
   "metadata": {},
   "source": [
    "## Q4. One-hot encoding\n",
    "\n",
    "Let's apply one-hot encoding to the pickup and dropoff location IDs. We'll use only these two features for our model. \n",
    "\n",
    "* Turn the dataframe into a list of dictionaries\n",
    "* Fit a dictionary vectorizer \n",
    "* Get a feature matrix from it\n",
    "\n",
    "What's the dimensionality of this matrix (number of columns)?\n",
    "\n",
    "* 2\n",
    "* 155\n",
    "* 345\n",
    "* 515\n",
    "* 715"
   ]
  },
  {
   "cell_type": "code",
   "execution_count": 24,
   "id": "fe7cd7c1",
   "metadata": {},
   "outputs": [
    {
     "data": {
      "text/html": [
       "<div>\n",
       "<style scoped>\n",
       "    .dataframe tbody tr th:only-of-type {\n",
       "        vertical-align: middle;\n",
       "    }\n",
       "\n",
       "    .dataframe tbody tr th {\n",
       "        vertical-align: top;\n",
       "    }\n",
       "\n",
       "    .dataframe thead th {\n",
       "        text-align: right;\n",
       "    }\n",
       "</style>\n",
       "<table border=\"1\" class=\"dataframe\">\n",
       "  <thead>\n",
       "    <tr style=\"text-align: right;\">\n",
       "      <th></th>\n",
       "      <th>0</th>\n",
       "      <th>1</th>\n",
       "      <th>2</th>\n",
       "      <th>3</th>\n",
       "      <th>4</th>\n",
       "    </tr>\n",
       "  </thead>\n",
       "  <tbody>\n",
       "    <tr>\n",
       "      <th>VendorID</th>\n",
       "      <td>1</td>\n",
       "      <td>1</td>\n",
       "      <td>2</td>\n",
       "      <td>2</td>\n",
       "      <td>2</td>\n",
       "    </tr>\n",
       "    <tr>\n",
       "      <th>tpep_pickup_datetime</th>\n",
       "      <td>2022-01-01 00:35:40</td>\n",
       "      <td>2022-01-01 00:33:43</td>\n",
       "      <td>2022-01-01 00:53:21</td>\n",
       "      <td>2022-01-01 00:25:21</td>\n",
       "      <td>2022-01-01 00:36:48</td>\n",
       "    </tr>\n",
       "    <tr>\n",
       "      <th>tpep_dropoff_datetime</th>\n",
       "      <td>2022-01-01 00:53:29</td>\n",
       "      <td>2022-01-01 00:42:07</td>\n",
       "      <td>2022-01-01 01:02:19</td>\n",
       "      <td>2022-01-01 00:35:23</td>\n",
       "      <td>2022-01-01 01:14:20</td>\n",
       "    </tr>\n",
       "    <tr>\n",
       "      <th>passenger_count</th>\n",
       "      <td>2.00</td>\n",
       "      <td>1.00</td>\n",
       "      <td>1.00</td>\n",
       "      <td>1.00</td>\n",
       "      <td>1.00</td>\n",
       "    </tr>\n",
       "    <tr>\n",
       "      <th>trip_distance</th>\n",
       "      <td>3.80</td>\n",
       "      <td>2.10</td>\n",
       "      <td>0.97</td>\n",
       "      <td>1.09</td>\n",
       "      <td>4.30</td>\n",
       "    </tr>\n",
       "    <tr>\n",
       "      <th>RatecodeID</th>\n",
       "      <td>1.00</td>\n",
       "      <td>1.00</td>\n",
       "      <td>1.00</td>\n",
       "      <td>1.00</td>\n",
       "      <td>1.00</td>\n",
       "    </tr>\n",
       "    <tr>\n",
       "      <th>store_and_fwd_flag</th>\n",
       "      <td>N</td>\n",
       "      <td>N</td>\n",
       "      <td>N</td>\n",
       "      <td>N</td>\n",
       "      <td>N</td>\n",
       "    </tr>\n",
       "    <tr>\n",
       "      <th>PULocationID</th>\n",
       "      <td>142</td>\n",
       "      <td>236</td>\n",
       "      <td>166</td>\n",
       "      <td>114</td>\n",
       "      <td>68</td>\n",
       "    </tr>\n",
       "    <tr>\n",
       "      <th>DOLocationID</th>\n",
       "      <td>236</td>\n",
       "      <td>42</td>\n",
       "      <td>166</td>\n",
       "      <td>68</td>\n",
       "      <td>163</td>\n",
       "    </tr>\n",
       "    <tr>\n",
       "      <th>payment_type</th>\n",
       "      <td>1</td>\n",
       "      <td>1</td>\n",
       "      <td>1</td>\n",
       "      <td>2</td>\n",
       "      <td>1</td>\n",
       "    </tr>\n",
       "    <tr>\n",
       "      <th>fare_amount</th>\n",
       "      <td>14.50</td>\n",
       "      <td>8.00</td>\n",
       "      <td>7.50</td>\n",
       "      <td>8.00</td>\n",
       "      <td>23.50</td>\n",
       "    </tr>\n",
       "    <tr>\n",
       "      <th>extra</th>\n",
       "      <td>3.00</td>\n",
       "      <td>0.50</td>\n",
       "      <td>0.50</td>\n",
       "      <td>0.50</td>\n",
       "      <td>0.50</td>\n",
       "    </tr>\n",
       "    <tr>\n",
       "      <th>mta_tax</th>\n",
       "      <td>0.50</td>\n",
       "      <td>0.50</td>\n",
       "      <td>0.50</td>\n",
       "      <td>0.50</td>\n",
       "      <td>0.50</td>\n",
       "    </tr>\n",
       "    <tr>\n",
       "      <th>tip_amount</th>\n",
       "      <td>3.65</td>\n",
       "      <td>4.00</td>\n",
       "      <td>1.76</td>\n",
       "      <td>0.00</td>\n",
       "      <td>3.00</td>\n",
       "    </tr>\n",
       "    <tr>\n",
       "      <th>tolls_amount</th>\n",
       "      <td>0.00</td>\n",
       "      <td>0.00</td>\n",
       "      <td>0.00</td>\n",
       "      <td>0.00</td>\n",
       "      <td>0.00</td>\n",
       "    </tr>\n",
       "    <tr>\n",
       "      <th>improvement_surcharge</th>\n",
       "      <td>0.30</td>\n",
       "      <td>0.30</td>\n",
       "      <td>0.30</td>\n",
       "      <td>0.30</td>\n",
       "      <td>0.30</td>\n",
       "    </tr>\n",
       "    <tr>\n",
       "      <th>total_amount</th>\n",
       "      <td>21.95</td>\n",
       "      <td>13.30</td>\n",
       "      <td>10.56</td>\n",
       "      <td>11.80</td>\n",
       "      <td>30.30</td>\n",
       "    </tr>\n",
       "    <tr>\n",
       "      <th>congestion_surcharge</th>\n",
       "      <td>2.50</td>\n",
       "      <td>0.00</td>\n",
       "      <td>0.00</td>\n",
       "      <td>2.50</td>\n",
       "      <td>2.50</td>\n",
       "    </tr>\n",
       "    <tr>\n",
       "      <th>airport_fee</th>\n",
       "      <td>0.00</td>\n",
       "      <td>0.00</td>\n",
       "      <td>0.00</td>\n",
       "      <td>0.00</td>\n",
       "      <td>0.00</td>\n",
       "    </tr>\n",
       "    <tr>\n",
       "      <th>duration</th>\n",
       "      <td>17.82</td>\n",
       "      <td>8.40</td>\n",
       "      <td>8.97</td>\n",
       "      <td>10.03</td>\n",
       "      <td>37.53</td>\n",
       "    </tr>\n",
       "  </tbody>\n",
       "</table>\n",
       "</div>"
      ],
      "text/plain": [
       "                                         0                    1   \n",
       "VendorID                                 1                    1  \\\n",
       "tpep_pickup_datetime   2022-01-01 00:35:40  2022-01-01 00:33:43   \n",
       "tpep_dropoff_datetime  2022-01-01 00:53:29  2022-01-01 00:42:07   \n",
       "passenger_count                       2.00                 1.00   \n",
       "trip_distance                         3.80                 2.10   \n",
       "RatecodeID                            1.00                 1.00   \n",
       "store_and_fwd_flag                       N                    N   \n",
       "PULocationID                           142                  236   \n",
       "DOLocationID                           236                   42   \n",
       "payment_type                             1                    1   \n",
       "fare_amount                          14.50                 8.00   \n",
       "extra                                 3.00                 0.50   \n",
       "mta_tax                               0.50                 0.50   \n",
       "tip_amount                            3.65                 4.00   \n",
       "tolls_amount                          0.00                 0.00   \n",
       "improvement_surcharge                 0.30                 0.30   \n",
       "total_amount                         21.95                13.30   \n",
       "congestion_surcharge                  2.50                 0.00   \n",
       "airport_fee                           0.00                 0.00   \n",
       "duration                             17.82                 8.40   \n",
       "\n",
       "                                         2                    3   \n",
       "VendorID                                 2                    2  \\\n",
       "tpep_pickup_datetime   2022-01-01 00:53:21  2022-01-01 00:25:21   \n",
       "tpep_dropoff_datetime  2022-01-01 01:02:19  2022-01-01 00:35:23   \n",
       "passenger_count                       1.00                 1.00   \n",
       "trip_distance                         0.97                 1.09   \n",
       "RatecodeID                            1.00                 1.00   \n",
       "store_and_fwd_flag                       N                    N   \n",
       "PULocationID                           166                  114   \n",
       "DOLocationID                           166                   68   \n",
       "payment_type                             1                    2   \n",
       "fare_amount                           7.50                 8.00   \n",
       "extra                                 0.50                 0.50   \n",
       "mta_tax                               0.50                 0.50   \n",
       "tip_amount                            1.76                 0.00   \n",
       "tolls_amount                          0.00                 0.00   \n",
       "improvement_surcharge                 0.30                 0.30   \n",
       "total_amount                         10.56                11.80   \n",
       "congestion_surcharge                  0.00                 2.50   \n",
       "airport_fee                           0.00                 0.00   \n",
       "duration                              8.97                10.03   \n",
       "\n",
       "                                         4  \n",
       "VendorID                                 2  \n",
       "tpep_pickup_datetime   2022-01-01 00:36:48  \n",
       "tpep_dropoff_datetime  2022-01-01 01:14:20  \n",
       "passenger_count                       1.00  \n",
       "trip_distance                         4.30  \n",
       "RatecodeID                            1.00  \n",
       "store_and_fwd_flag                       N  \n",
       "PULocationID                            68  \n",
       "DOLocationID                           163  \n",
       "payment_type                             1  \n",
       "fare_amount                          23.50  \n",
       "extra                                 0.50  \n",
       "mta_tax                               0.50  \n",
       "tip_amount                            3.00  \n",
       "tolls_amount                          0.00  \n",
       "improvement_surcharge                 0.30  \n",
       "total_amount                         30.30  \n",
       "congestion_surcharge                  2.50  \n",
       "airport_fee                           0.00  \n",
       "duration                             37.53  "
      ]
     },
     "execution_count": 24,
     "metadata": {},
     "output_type": "execute_result"
    }
   ],
   "source": [
    "df_filtered.head().T"
   ]
  },
  {
   "cell_type": "code",
   "execution_count": 27,
   "id": "4c816009",
   "metadata": {},
   "outputs": [
    {
     "data": {
      "text/plain": [
       "PULocationID    0\n",
       "DOLocationID    0\n",
       "dtype: int64"
      ]
     },
     "execution_count": 27,
     "metadata": {},
     "output_type": "execute_result"
    }
   ],
   "source": [
    "categorical = ['PULocationID', 'DOLocationID']\n",
    "df_filtered[categorical].isnull().sum()"
   ]
  },
  {
   "cell_type": "code",
   "execution_count": 28,
   "id": "6490a129",
   "metadata": {},
   "outputs": [
    {
     "data": {
      "text/plain": [
       "PULocationID    int64\n",
       "DOLocationID    int64\n",
       "dtype: object"
      ]
     },
     "execution_count": 28,
     "metadata": {},
     "output_type": "execute_result"
    }
   ],
   "source": [
    "df_filtered[categorical].dtypes"
   ]
  },
  {
   "cell_type": "code",
   "execution_count": 29,
   "id": "614a5c82",
   "metadata": {},
   "outputs": [],
   "source": [
    "#df_filtered[categorical] = df_filtered[categorical].astype('str')\n",
    "df_filtered.loc[:, categorical] = df_filtered[categorical].astype('str')"
   ]
  },
  {
   "cell_type": "code",
   "execution_count": 30,
   "id": "7d747817",
   "metadata": {},
   "outputs": [
    {
     "data": {
      "text/plain": [
       "PULocationID    object\n",
       "DOLocationID    object\n",
       "dtype: object"
      ]
     },
     "execution_count": 30,
     "metadata": {},
     "output_type": "execute_result"
    }
   ],
   "source": [
    "df_filtered[categorical].dtypes"
   ]
  },
  {
   "cell_type": "code",
   "execution_count": 31,
   "id": "99983a23",
   "metadata": {},
   "outputs": [],
   "source": [
    "train_dicts = df_filtered[categorical].to_dict(orient='records')"
   ]
  },
  {
   "cell_type": "code",
   "execution_count": 33,
   "id": "ef95c12a",
   "metadata": {},
   "outputs": [],
   "source": [
    "from sklearn.feature_extraction import DictVectorizer"
   ]
  },
  {
   "cell_type": "code",
   "execution_count": 34,
   "id": "de56dc63",
   "metadata": {},
   "outputs": [],
   "source": [
    "dv = DictVectorizer(sparse=False)"
   ]
  },
  {
   "cell_type": "code",
   "execution_count": null,
   "id": "61de19d5",
   "metadata": {},
   "outputs": [],
   "source": [
    "X_train = dv.fit_transform(train_dicts)"
   ]
  },
  {
   "cell_type": "code",
   "execution_count": 35,
   "id": "363c899a",
   "metadata": {},
   "outputs": [
    {
     "data": {
      "text/plain": [
       "scipy.sparse._csr.csr_matrix"
      ]
     },
     "execution_count": 35,
     "metadata": {},
     "output_type": "execute_result"
    }
   ],
   "source": [
    "type(X_train)"
   ]
  },
  {
   "cell_type": "code",
   "execution_count": 36,
   "id": "152550fd",
   "metadata": {},
   "outputs": [
    {
     "data": {
      "text/plain": [
       "(2421440, 515)"
      ]
     },
     "execution_count": 36,
     "metadata": {},
     "output_type": "execute_result"
    }
   ],
   "source": [
    "X_train.shape"
   ]
  },
  {
   "cell_type": "code",
   "execution_count": 37,
   "id": "d93e8bd8",
   "metadata": {},
   "outputs": [
    {
     "data": {
      "text/plain": [
       "515"
      ]
     },
     "execution_count": 37,
     "metadata": {},
     "output_type": "execute_result"
    }
   ],
   "source": [
    "len(dv.feature_names_)"
   ]
  },
  {
   "cell_type": "markdown",
   "id": "9aab80c5",
   "metadata": {},
   "source": [
    "**Q4 Answer**\n",
    "\n",
    "`515`"
   ]
  },
  {
   "cell_type": "markdown",
   "id": "42a4905a",
   "metadata": {},
   "source": [
    "## Q5. Training a model\n",
    "\n",
    "Now let's use the feature matrix from the previous step to train a model. \n",
    "\n",
    "* Train a plain linear regression model with default parameters \n",
    "* Calculate the RMSE of the model on the training data\n",
    "\n",
    "What's the RMSE on train?\n",
    "\n",
    "* 6.99\n",
    "* 11.99\n",
    "* 16.99\n",
    "* 21.99"
   ]
  },
  {
   "cell_type": "code",
   "execution_count": 38,
   "id": "c6edf8cd",
   "metadata": {},
   "outputs": [
    {
     "data": {
      "text/plain": [
       "numpy.ndarray"
      ]
     },
     "execution_count": 38,
     "metadata": {},
     "output_type": "execute_result"
    }
   ],
   "source": [
    "y_train = df_filtered.duration.values\n",
    "type(y_train)"
   ]
  },
  {
   "cell_type": "code",
   "execution_count": 39,
   "id": "4b291684",
   "metadata": {},
   "outputs": [],
   "source": [
    "from sklearn.linear_model import LinearRegression\n",
    "from sklearn.metrics import mean_squared_error"
   ]
  },
  {
   "cell_type": "code",
   "execution_count": 40,
   "id": "e6948ea9",
   "metadata": {},
   "outputs": [],
   "source": [
    "lr = LinearRegression()"
   ]
  },
  {
   "cell_type": "code",
   "execution_count": 41,
   "id": "f241be87",
   "metadata": {},
   "outputs": [
    {
     "data": {
      "text/html": [
       "<style>#sk-container-id-1 {color: black;background-color: white;}#sk-container-id-1 pre{padding: 0;}#sk-container-id-1 div.sk-toggleable {background-color: white;}#sk-container-id-1 label.sk-toggleable__label {cursor: pointer;display: block;width: 100%;margin-bottom: 0;padding: 0.3em;box-sizing: border-box;text-align: center;}#sk-container-id-1 label.sk-toggleable__label-arrow:before {content: \"▸\";float: left;margin-right: 0.25em;color: #696969;}#sk-container-id-1 label.sk-toggleable__label-arrow:hover:before {color: black;}#sk-container-id-1 div.sk-estimator:hover label.sk-toggleable__label-arrow:before {color: black;}#sk-container-id-1 div.sk-toggleable__content {max-height: 0;max-width: 0;overflow: hidden;text-align: left;background-color: #f0f8ff;}#sk-container-id-1 div.sk-toggleable__content pre {margin: 0.2em;color: black;border-radius: 0.25em;background-color: #f0f8ff;}#sk-container-id-1 input.sk-toggleable__control:checked~div.sk-toggleable__content {max-height: 200px;max-width: 100%;overflow: auto;}#sk-container-id-1 input.sk-toggleable__control:checked~label.sk-toggleable__label-arrow:before {content: \"▾\";}#sk-container-id-1 div.sk-estimator input.sk-toggleable__control:checked~label.sk-toggleable__label {background-color: #d4ebff;}#sk-container-id-1 div.sk-label input.sk-toggleable__control:checked~label.sk-toggleable__label {background-color: #d4ebff;}#sk-container-id-1 input.sk-hidden--visually {border: 0;clip: rect(1px 1px 1px 1px);clip: rect(1px, 1px, 1px, 1px);height: 1px;margin: -1px;overflow: hidden;padding: 0;position: absolute;width: 1px;}#sk-container-id-1 div.sk-estimator {font-family: monospace;background-color: #f0f8ff;border: 1px dotted black;border-radius: 0.25em;box-sizing: border-box;margin-bottom: 0.5em;}#sk-container-id-1 div.sk-estimator:hover {background-color: #d4ebff;}#sk-container-id-1 div.sk-parallel-item::after {content: \"\";width: 100%;border-bottom: 1px solid gray;flex-grow: 1;}#sk-container-id-1 div.sk-label:hover label.sk-toggleable__label {background-color: #d4ebff;}#sk-container-id-1 div.sk-serial::before {content: \"\";position: absolute;border-left: 1px solid gray;box-sizing: border-box;top: 0;bottom: 0;left: 50%;z-index: 0;}#sk-container-id-1 div.sk-serial {display: flex;flex-direction: column;align-items: center;background-color: white;padding-right: 0.2em;padding-left: 0.2em;position: relative;}#sk-container-id-1 div.sk-item {position: relative;z-index: 1;}#sk-container-id-1 div.sk-parallel {display: flex;align-items: stretch;justify-content: center;background-color: white;position: relative;}#sk-container-id-1 div.sk-item::before, #sk-container-id-1 div.sk-parallel-item::before {content: \"\";position: absolute;border-left: 1px solid gray;box-sizing: border-box;top: 0;bottom: 0;left: 50%;z-index: -1;}#sk-container-id-1 div.sk-parallel-item {display: flex;flex-direction: column;z-index: 1;position: relative;background-color: white;}#sk-container-id-1 div.sk-parallel-item:first-child::after {align-self: flex-end;width: 50%;}#sk-container-id-1 div.sk-parallel-item:last-child::after {align-self: flex-start;width: 50%;}#sk-container-id-1 div.sk-parallel-item:only-child::after {width: 0;}#sk-container-id-1 div.sk-dashed-wrapped {border: 1px dashed gray;margin: 0 0.4em 0.5em 0.4em;box-sizing: border-box;padding-bottom: 0.4em;background-color: white;}#sk-container-id-1 div.sk-label label {font-family: monospace;font-weight: bold;display: inline-block;line-height: 1.2em;}#sk-container-id-1 div.sk-label-container {text-align: center;}#sk-container-id-1 div.sk-container {/* jupyter's `normalize.less` sets `[hidden] { display: none; }` but bootstrap.min.css set `[hidden] { display: none !important; }` so we also need the `!important` here to be able to override the default hidden behavior on the sphinx rendered scikit-learn.org. See: https://github.com/scikit-learn/scikit-learn/issues/21755 */display: inline-block !important;position: relative;}#sk-container-id-1 div.sk-text-repr-fallback {display: none;}</style><div id=\"sk-container-id-1\" class=\"sk-top-container\"><div class=\"sk-text-repr-fallback\"><pre>LinearRegression()</pre><b>In a Jupyter environment, please rerun this cell to show the HTML representation or trust the notebook. <br />On GitHub, the HTML representation is unable to render, please try loading this page with nbviewer.org.</b></div><div class=\"sk-container\" hidden><div class=\"sk-item\"><div class=\"sk-estimator sk-toggleable\"><input class=\"sk-toggleable__control sk-hidden--visually\" id=\"sk-estimator-id-1\" type=\"checkbox\" checked><label for=\"sk-estimator-id-1\" class=\"sk-toggleable__label sk-toggleable__label-arrow\">LinearRegression</label><div class=\"sk-toggleable__content\"><pre>LinearRegression()</pre></div></div></div></div></div>"
      ],
      "text/plain": [
       "LinearRegression()"
      ]
     },
     "execution_count": 41,
     "metadata": {},
     "output_type": "execute_result"
    }
   ],
   "source": [
    "lr.fit(X_train, y_train)"
   ]
  },
  {
   "cell_type": "code",
   "execution_count": 42,
   "id": "51e82fce",
   "metadata": {},
   "outputs": [],
   "source": [
    "y_pred = lr.predict(X_train)"
   ]
  },
  {
   "cell_type": "code",
   "execution_count": 43,
   "id": "79f8c9bb",
   "metadata": {},
   "outputs": [
    {
     "data": {
      "text/plain": [
       "6.986190837370544"
      ]
     },
     "execution_count": 43,
     "metadata": {},
     "output_type": "execute_result"
    }
   ],
   "source": [
    "mean_squared_error(y_train, y_pred, squared = False)"
   ]
  },
  {
   "cell_type": "markdown",
   "id": "90c19159",
   "metadata": {},
   "source": [
    "**Q5 Answer**\n",
    "\n",
    "RMSE on train data is `6.99`"
   ]
  },
  {
   "cell_type": "markdown",
   "id": "d2470ec8",
   "metadata": {},
   "source": [
    "## Q6. Evaluating the model\n",
    "\n",
    "Now let's apply this model to the validation dataset (February 2022). \n",
    "\n",
    "What's the RMSE on validation?\n",
    "\n",
    "* 7.79\n",
    "* 12.79\n",
    "* 17.79\n",
    "* 22.79"
   ]
  },
  {
   "cell_type": "code",
   "execution_count": 44,
   "id": "0574892c",
   "metadata": {},
   "outputs": [
    {
     "name": "stdout",
     "output_type": "stream",
     "text": [
      "yellow_tripdata_2022-01.parquet  yellow_tripdata_2022-02.parquet\r\n"
     ]
    }
   ],
   "source": [
    "!ls"
   ]
  },
  {
   "cell_type": "code",
   "execution_count": 45,
   "id": "5168f9e0",
   "metadata": {},
   "outputs": [],
   "source": [
    "df_val = pd.read_parquet('yellow_tripdata_2022-02.parquet')"
   ]
  },
  {
   "cell_type": "code",
   "execution_count": 50,
   "id": "a4097f82",
   "metadata": {},
   "outputs": [
    {
     "data": {
      "text/plain": [
       "VendorID                          int64\n",
       "tpep_pickup_datetime     datetime64[ns]\n",
       "tpep_dropoff_datetime    datetime64[ns]\n",
       "passenger_count                 float64\n",
       "trip_distance                   float64\n",
       "RatecodeID                      float64\n",
       "store_and_fwd_flag               object\n",
       "PULocationID                      int64\n",
       "DOLocationID                      int64\n",
       "payment_type                      int64\n",
       "fare_amount                     float64\n",
       "extra                           float64\n",
       "mta_tax                         float64\n",
       "tip_amount                      float64\n",
       "tolls_amount                    float64\n",
       "improvement_surcharge           float64\n",
       "total_amount                    float64\n",
       "congestion_surcharge            float64\n",
       "airport_fee                     float64\n",
       "dtype: object"
      ]
     },
     "execution_count": 50,
     "metadata": {},
     "output_type": "execute_result"
    }
   ],
   "source": [
    "df_val.dtypes"
   ]
  },
  {
   "cell_type": "code",
   "execution_count": 52,
   "id": "d01d68ec",
   "metadata": {},
   "outputs": [
    {
     "data": {
      "text/plain": [
       "VendorID                      0\n",
       "tpep_pickup_datetime          0\n",
       "tpep_dropoff_datetime         0\n",
       "passenger_count          101738\n",
       "trip_distance                 0\n",
       "RatecodeID               101738\n",
       "store_and_fwd_flag       101738\n",
       "PULocationID                  0\n",
       "DOLocationID                  0\n",
       "payment_type                  0\n",
       "fare_amount                   0\n",
       "extra                         0\n",
       "mta_tax                       0\n",
       "tip_amount                    0\n",
       "tolls_amount                  0\n",
       "improvement_surcharge         0\n",
       "total_amount                  0\n",
       "congestion_surcharge     101738\n",
       "airport_fee              101738\n",
       "dtype: int64"
      ]
     },
     "execution_count": 52,
     "metadata": {},
     "output_type": "execute_result"
    }
   ],
   "source": [
    "df_val.isnull().sum()"
   ]
  },
  {
   "cell_type": "code",
   "execution_count": 53,
   "id": "e595fbae",
   "metadata": {},
   "outputs": [
    {
     "data": {
      "text/html": [
       "<div>\n",
       "<style scoped>\n",
       "    .dataframe tbody tr th:only-of-type {\n",
       "        vertical-align: middle;\n",
       "    }\n",
       "\n",
       "    .dataframe tbody tr th {\n",
       "        vertical-align: top;\n",
       "    }\n",
       "\n",
       "    .dataframe thead th {\n",
       "        text-align: right;\n",
       "    }\n",
       "</style>\n",
       "<table border=\"1\" class=\"dataframe\">\n",
       "  <thead>\n",
       "    <tr style=\"text-align: right;\">\n",
       "      <th></th>\n",
       "      <th>0</th>\n",
       "      <th>1</th>\n",
       "      <th>2</th>\n",
       "      <th>3</th>\n",
       "      <th>4</th>\n",
       "    </tr>\n",
       "  </thead>\n",
       "  <tbody>\n",
       "    <tr>\n",
       "      <th>VendorID</th>\n",
       "      <td>1</td>\n",
       "      <td>1</td>\n",
       "      <td>1</td>\n",
       "      <td>2</td>\n",
       "      <td>2</td>\n",
       "    </tr>\n",
       "    <tr>\n",
       "      <th>tpep_pickup_datetime</th>\n",
       "      <td>2022-02-01 00:06:58</td>\n",
       "      <td>2022-02-01 00:38:22</td>\n",
       "      <td>2022-02-01 00:03:20</td>\n",
       "      <td>2022-02-01 00:08:00</td>\n",
       "      <td>2022-02-01 00:06:48</td>\n",
       "    </tr>\n",
       "    <tr>\n",
       "      <th>tpep_dropoff_datetime</th>\n",
       "      <td>2022-02-01 00:19:24</td>\n",
       "      <td>2022-02-01 00:55:55</td>\n",
       "      <td>2022-02-01 00:26:59</td>\n",
       "      <td>2022-02-01 00:28:05</td>\n",
       "      <td>2022-02-01 00:33:07</td>\n",
       "    </tr>\n",
       "    <tr>\n",
       "      <th>passenger_count</th>\n",
       "      <td>1.00</td>\n",
       "      <td>1.00</td>\n",
       "      <td>1.00</td>\n",
       "      <td>1.00</td>\n",
       "      <td>1.00</td>\n",
       "    </tr>\n",
       "    <tr>\n",
       "      <th>trip_distance</th>\n",
       "      <td>5.40</td>\n",
       "      <td>6.40</td>\n",
       "      <td>12.50</td>\n",
       "      <td>9.88</td>\n",
       "      <td>12.16</td>\n",
       "    </tr>\n",
       "    <tr>\n",
       "      <th>RatecodeID</th>\n",
       "      <td>1.00</td>\n",
       "      <td>1.00</td>\n",
       "      <td>1.00</td>\n",
       "      <td>1.00</td>\n",
       "      <td>1.00</td>\n",
       "    </tr>\n",
       "    <tr>\n",
       "      <th>store_and_fwd_flag</th>\n",
       "      <td>N</td>\n",
       "      <td>N</td>\n",
       "      <td>N</td>\n",
       "      <td>N</td>\n",
       "      <td>N</td>\n",
       "    </tr>\n",
       "    <tr>\n",
       "      <th>PULocationID</th>\n",
       "      <td>138</td>\n",
       "      <td>138</td>\n",
       "      <td>138</td>\n",
       "      <td>239</td>\n",
       "      <td>138</td>\n",
       "    </tr>\n",
       "    <tr>\n",
       "      <th>DOLocationID</th>\n",
       "      <td>252</td>\n",
       "      <td>41</td>\n",
       "      <td>200</td>\n",
       "      <td>200</td>\n",
       "      <td>125</td>\n",
       "    </tr>\n",
       "    <tr>\n",
       "      <th>payment_type</th>\n",
       "      <td>1</td>\n",
       "      <td>2</td>\n",
       "      <td>2</td>\n",
       "      <td>2</td>\n",
       "      <td>1</td>\n",
       "    </tr>\n",
       "    <tr>\n",
       "      <th>fare_amount</th>\n",
       "      <td>17.00</td>\n",
       "      <td>21.00</td>\n",
       "      <td>35.50</td>\n",
       "      <td>28.00</td>\n",
       "      <td>35.50</td>\n",
       "    </tr>\n",
       "    <tr>\n",
       "      <th>extra</th>\n",
       "      <td>1.75</td>\n",
       "      <td>1.75</td>\n",
       "      <td>1.75</td>\n",
       "      <td>0.50</td>\n",
       "      <td>0.50</td>\n",
       "    </tr>\n",
       "    <tr>\n",
       "      <th>mta_tax</th>\n",
       "      <td>0.50</td>\n",
       "      <td>0.50</td>\n",
       "      <td>0.50</td>\n",
       "      <td>0.50</td>\n",
       "      <td>0.50</td>\n",
       "    </tr>\n",
       "    <tr>\n",
       "      <th>tip_amount</th>\n",
       "      <td>3.90</td>\n",
       "      <td>0.00</td>\n",
       "      <td>0.00</td>\n",
       "      <td>0.00</td>\n",
       "      <td>8.11</td>\n",
       "    </tr>\n",
       "    <tr>\n",
       "      <th>tolls_amount</th>\n",
       "      <td>0.00</td>\n",
       "      <td>6.55</td>\n",
       "      <td>6.55</td>\n",
       "      <td>3.00</td>\n",
       "      <td>0.00</td>\n",
       "    </tr>\n",
       "    <tr>\n",
       "      <th>improvement_surcharge</th>\n",
       "      <td>0.30</td>\n",
       "      <td>0.30</td>\n",
       "      <td>0.30</td>\n",
       "      <td>0.30</td>\n",
       "      <td>0.30</td>\n",
       "    </tr>\n",
       "    <tr>\n",
       "      <th>total_amount</th>\n",
       "      <td>23.45</td>\n",
       "      <td>30.10</td>\n",
       "      <td>44.60</td>\n",
       "      <td>34.80</td>\n",
       "      <td>48.66</td>\n",
       "    </tr>\n",
       "    <tr>\n",
       "      <th>congestion_surcharge</th>\n",
       "      <td>0.00</td>\n",
       "      <td>0.00</td>\n",
       "      <td>0.00</td>\n",
       "      <td>2.50</td>\n",
       "      <td>2.50</td>\n",
       "    </tr>\n",
       "    <tr>\n",
       "      <th>airport_fee</th>\n",
       "      <td>1.25</td>\n",
       "      <td>1.25</td>\n",
       "      <td>1.25</td>\n",
       "      <td>0.00</td>\n",
       "      <td>1.25</td>\n",
       "    </tr>\n",
       "  </tbody>\n",
       "</table>\n",
       "</div>"
      ],
      "text/plain": [
       "                                         0                    1   \n",
       "VendorID                                 1                    1  \\\n",
       "tpep_pickup_datetime   2022-02-01 00:06:58  2022-02-01 00:38:22   \n",
       "tpep_dropoff_datetime  2022-02-01 00:19:24  2022-02-01 00:55:55   \n",
       "passenger_count                       1.00                 1.00   \n",
       "trip_distance                         5.40                 6.40   \n",
       "RatecodeID                            1.00                 1.00   \n",
       "store_and_fwd_flag                       N                    N   \n",
       "PULocationID                           138                  138   \n",
       "DOLocationID                           252                   41   \n",
       "payment_type                             1                    2   \n",
       "fare_amount                          17.00                21.00   \n",
       "extra                                 1.75                 1.75   \n",
       "mta_tax                               0.50                 0.50   \n",
       "tip_amount                            3.90                 0.00   \n",
       "tolls_amount                          0.00                 6.55   \n",
       "improvement_surcharge                 0.30                 0.30   \n",
       "total_amount                         23.45                30.10   \n",
       "congestion_surcharge                  0.00                 0.00   \n",
       "airport_fee                           1.25                 1.25   \n",
       "\n",
       "                                         2                    3   \n",
       "VendorID                                 1                    2  \\\n",
       "tpep_pickup_datetime   2022-02-01 00:03:20  2022-02-01 00:08:00   \n",
       "tpep_dropoff_datetime  2022-02-01 00:26:59  2022-02-01 00:28:05   \n",
       "passenger_count                       1.00                 1.00   \n",
       "trip_distance                        12.50                 9.88   \n",
       "RatecodeID                            1.00                 1.00   \n",
       "store_and_fwd_flag                       N                    N   \n",
       "PULocationID                           138                  239   \n",
       "DOLocationID                           200                  200   \n",
       "payment_type                             2                    2   \n",
       "fare_amount                          35.50                28.00   \n",
       "extra                                 1.75                 0.50   \n",
       "mta_tax                               0.50                 0.50   \n",
       "tip_amount                            0.00                 0.00   \n",
       "tolls_amount                          6.55                 3.00   \n",
       "improvement_surcharge                 0.30                 0.30   \n",
       "total_amount                         44.60                34.80   \n",
       "congestion_surcharge                  0.00                 2.50   \n",
       "airport_fee                           1.25                 0.00   \n",
       "\n",
       "                                         4  \n",
       "VendorID                                 2  \n",
       "tpep_pickup_datetime   2022-02-01 00:06:48  \n",
       "tpep_dropoff_datetime  2022-02-01 00:33:07  \n",
       "passenger_count                       1.00  \n",
       "trip_distance                        12.16  \n",
       "RatecodeID                            1.00  \n",
       "store_and_fwd_flag                       N  \n",
       "PULocationID                           138  \n",
       "DOLocationID                           125  \n",
       "payment_type                             1  \n",
       "fare_amount                          35.50  \n",
       "extra                                 0.50  \n",
       "mta_tax                               0.50  \n",
       "tip_amount                            8.11  \n",
       "tolls_amount                          0.00  \n",
       "improvement_surcharge                 0.30  \n",
       "total_amount                         48.66  \n",
       "congestion_surcharge                  2.50  \n",
       "airport_fee                           1.25  "
      ]
     },
     "execution_count": 53,
     "metadata": {},
     "output_type": "execute_result"
    }
   ],
   "source": [
    "df_val.head().T"
   ]
  },
  {
   "cell_type": "code",
   "execution_count": 54,
   "id": "925756b6",
   "metadata": {},
   "outputs": [],
   "source": [
    "df_val['duration'] = df_val.tpep_dropoff_datetime - df_val.tpep_pickup_datetime"
   ]
  },
  {
   "cell_type": "code",
   "execution_count": 55,
   "id": "ba276a1f",
   "metadata": {},
   "outputs": [
    {
     "data": {
      "text/html": [
       "<div>\n",
       "<style scoped>\n",
       "    .dataframe tbody tr th:only-of-type {\n",
       "        vertical-align: middle;\n",
       "    }\n",
       "\n",
       "    .dataframe tbody tr th {\n",
       "        vertical-align: top;\n",
       "    }\n",
       "\n",
       "    .dataframe thead th {\n",
       "        text-align: right;\n",
       "    }\n",
       "</style>\n",
       "<table border=\"1\" class=\"dataframe\">\n",
       "  <thead>\n",
       "    <tr style=\"text-align: right;\">\n",
       "      <th></th>\n",
       "      <th>0</th>\n",
       "      <th>1</th>\n",
       "      <th>2</th>\n",
       "      <th>3</th>\n",
       "      <th>4</th>\n",
       "    </tr>\n",
       "  </thead>\n",
       "  <tbody>\n",
       "    <tr>\n",
       "      <th>VendorID</th>\n",
       "      <td>1</td>\n",
       "      <td>1</td>\n",
       "      <td>1</td>\n",
       "      <td>2</td>\n",
       "      <td>2</td>\n",
       "    </tr>\n",
       "    <tr>\n",
       "      <th>tpep_pickup_datetime</th>\n",
       "      <td>2022-02-01 00:06:58</td>\n",
       "      <td>2022-02-01 00:38:22</td>\n",
       "      <td>2022-02-01 00:03:20</td>\n",
       "      <td>2022-02-01 00:08:00</td>\n",
       "      <td>2022-02-01 00:06:48</td>\n",
       "    </tr>\n",
       "    <tr>\n",
       "      <th>tpep_dropoff_datetime</th>\n",
       "      <td>2022-02-01 00:19:24</td>\n",
       "      <td>2022-02-01 00:55:55</td>\n",
       "      <td>2022-02-01 00:26:59</td>\n",
       "      <td>2022-02-01 00:28:05</td>\n",
       "      <td>2022-02-01 00:33:07</td>\n",
       "    </tr>\n",
       "    <tr>\n",
       "      <th>passenger_count</th>\n",
       "      <td>1.00</td>\n",
       "      <td>1.00</td>\n",
       "      <td>1.00</td>\n",
       "      <td>1.00</td>\n",
       "      <td>1.00</td>\n",
       "    </tr>\n",
       "    <tr>\n",
       "      <th>trip_distance</th>\n",
       "      <td>5.40</td>\n",
       "      <td>6.40</td>\n",
       "      <td>12.50</td>\n",
       "      <td>9.88</td>\n",
       "      <td>12.16</td>\n",
       "    </tr>\n",
       "    <tr>\n",
       "      <th>RatecodeID</th>\n",
       "      <td>1.00</td>\n",
       "      <td>1.00</td>\n",
       "      <td>1.00</td>\n",
       "      <td>1.00</td>\n",
       "      <td>1.00</td>\n",
       "    </tr>\n",
       "    <tr>\n",
       "      <th>store_and_fwd_flag</th>\n",
       "      <td>N</td>\n",
       "      <td>N</td>\n",
       "      <td>N</td>\n",
       "      <td>N</td>\n",
       "      <td>N</td>\n",
       "    </tr>\n",
       "    <tr>\n",
       "      <th>PULocationID</th>\n",
       "      <td>138</td>\n",
       "      <td>138</td>\n",
       "      <td>138</td>\n",
       "      <td>239</td>\n",
       "      <td>138</td>\n",
       "    </tr>\n",
       "    <tr>\n",
       "      <th>DOLocationID</th>\n",
       "      <td>252</td>\n",
       "      <td>41</td>\n",
       "      <td>200</td>\n",
       "      <td>200</td>\n",
       "      <td>125</td>\n",
       "    </tr>\n",
       "    <tr>\n",
       "      <th>payment_type</th>\n",
       "      <td>1</td>\n",
       "      <td>2</td>\n",
       "      <td>2</td>\n",
       "      <td>2</td>\n",
       "      <td>1</td>\n",
       "    </tr>\n",
       "    <tr>\n",
       "      <th>fare_amount</th>\n",
       "      <td>17.00</td>\n",
       "      <td>21.00</td>\n",
       "      <td>35.50</td>\n",
       "      <td>28.00</td>\n",
       "      <td>35.50</td>\n",
       "    </tr>\n",
       "    <tr>\n",
       "      <th>extra</th>\n",
       "      <td>1.75</td>\n",
       "      <td>1.75</td>\n",
       "      <td>1.75</td>\n",
       "      <td>0.50</td>\n",
       "      <td>0.50</td>\n",
       "    </tr>\n",
       "    <tr>\n",
       "      <th>mta_tax</th>\n",
       "      <td>0.50</td>\n",
       "      <td>0.50</td>\n",
       "      <td>0.50</td>\n",
       "      <td>0.50</td>\n",
       "      <td>0.50</td>\n",
       "    </tr>\n",
       "    <tr>\n",
       "      <th>tip_amount</th>\n",
       "      <td>3.90</td>\n",
       "      <td>0.00</td>\n",
       "      <td>0.00</td>\n",
       "      <td>0.00</td>\n",
       "      <td>8.11</td>\n",
       "    </tr>\n",
       "    <tr>\n",
       "      <th>tolls_amount</th>\n",
       "      <td>0.00</td>\n",
       "      <td>6.55</td>\n",
       "      <td>6.55</td>\n",
       "      <td>3.00</td>\n",
       "      <td>0.00</td>\n",
       "    </tr>\n",
       "    <tr>\n",
       "      <th>improvement_surcharge</th>\n",
       "      <td>0.30</td>\n",
       "      <td>0.30</td>\n",
       "      <td>0.30</td>\n",
       "      <td>0.30</td>\n",
       "      <td>0.30</td>\n",
       "    </tr>\n",
       "    <tr>\n",
       "      <th>total_amount</th>\n",
       "      <td>23.45</td>\n",
       "      <td>30.10</td>\n",
       "      <td>44.60</td>\n",
       "      <td>34.80</td>\n",
       "      <td>48.66</td>\n",
       "    </tr>\n",
       "    <tr>\n",
       "      <th>congestion_surcharge</th>\n",
       "      <td>0.00</td>\n",
       "      <td>0.00</td>\n",
       "      <td>0.00</td>\n",
       "      <td>2.50</td>\n",
       "      <td>2.50</td>\n",
       "    </tr>\n",
       "    <tr>\n",
       "      <th>airport_fee</th>\n",
       "      <td>1.25</td>\n",
       "      <td>1.25</td>\n",
       "      <td>1.25</td>\n",
       "      <td>0.00</td>\n",
       "      <td>1.25</td>\n",
       "    </tr>\n",
       "    <tr>\n",
       "      <th>duration</th>\n",
       "      <td>0 days 00:12:26</td>\n",
       "      <td>0 days 00:17:33</td>\n",
       "      <td>0 days 00:23:39</td>\n",
       "      <td>0 days 00:20:05</td>\n",
       "      <td>0 days 00:26:19</td>\n",
       "    </tr>\n",
       "  </tbody>\n",
       "</table>\n",
       "</div>"
      ],
      "text/plain": [
       "                                         0                    1   \n",
       "VendorID                                 1                    1  \\\n",
       "tpep_pickup_datetime   2022-02-01 00:06:58  2022-02-01 00:38:22   \n",
       "tpep_dropoff_datetime  2022-02-01 00:19:24  2022-02-01 00:55:55   \n",
       "passenger_count                       1.00                 1.00   \n",
       "trip_distance                         5.40                 6.40   \n",
       "RatecodeID                            1.00                 1.00   \n",
       "store_and_fwd_flag                       N                    N   \n",
       "PULocationID                           138                  138   \n",
       "DOLocationID                           252                   41   \n",
       "payment_type                             1                    2   \n",
       "fare_amount                          17.00                21.00   \n",
       "extra                                 1.75                 1.75   \n",
       "mta_tax                               0.50                 0.50   \n",
       "tip_amount                            3.90                 0.00   \n",
       "tolls_amount                          0.00                 6.55   \n",
       "improvement_surcharge                 0.30                 0.30   \n",
       "total_amount                         23.45                30.10   \n",
       "congestion_surcharge                  0.00                 0.00   \n",
       "airport_fee                           1.25                 1.25   \n",
       "duration                   0 days 00:12:26      0 days 00:17:33   \n",
       "\n",
       "                                         2                    3   \n",
       "VendorID                                 1                    2  \\\n",
       "tpep_pickup_datetime   2022-02-01 00:03:20  2022-02-01 00:08:00   \n",
       "tpep_dropoff_datetime  2022-02-01 00:26:59  2022-02-01 00:28:05   \n",
       "passenger_count                       1.00                 1.00   \n",
       "trip_distance                        12.50                 9.88   \n",
       "RatecodeID                            1.00                 1.00   \n",
       "store_and_fwd_flag                       N                    N   \n",
       "PULocationID                           138                  239   \n",
       "DOLocationID                           200                  200   \n",
       "payment_type                             2                    2   \n",
       "fare_amount                          35.50                28.00   \n",
       "extra                                 1.75                 0.50   \n",
       "mta_tax                               0.50                 0.50   \n",
       "tip_amount                            0.00                 0.00   \n",
       "tolls_amount                          6.55                 3.00   \n",
       "improvement_surcharge                 0.30                 0.30   \n",
       "total_amount                         44.60                34.80   \n",
       "congestion_surcharge                  0.00                 2.50   \n",
       "airport_fee                           1.25                 0.00   \n",
       "duration                   0 days 00:23:39      0 days 00:20:05   \n",
       "\n",
       "                                         4  \n",
       "VendorID                                 2  \n",
       "tpep_pickup_datetime   2022-02-01 00:06:48  \n",
       "tpep_dropoff_datetime  2022-02-01 00:33:07  \n",
       "passenger_count                       1.00  \n",
       "trip_distance                        12.16  \n",
       "RatecodeID                            1.00  \n",
       "store_and_fwd_flag                       N  \n",
       "PULocationID                           138  \n",
       "DOLocationID                           125  \n",
       "payment_type                             1  \n",
       "fare_amount                          35.50  \n",
       "extra                                 0.50  \n",
       "mta_tax                               0.50  \n",
       "tip_amount                            8.11  \n",
       "tolls_amount                          0.00  \n",
       "improvement_surcharge                 0.30  \n",
       "total_amount                         48.66  \n",
       "congestion_surcharge                  2.50  \n",
       "airport_fee                           1.25  \n",
       "duration                   0 days 00:26:19  "
      ]
     },
     "execution_count": 55,
     "metadata": {},
     "output_type": "execute_result"
    }
   ],
   "source": [
    "df_val.head().T"
   ]
  },
  {
   "cell_type": "code",
   "execution_count": 56,
   "id": "3a358942",
   "metadata": {},
   "outputs": [],
   "source": [
    "df_val.duration = df_val.duration.apply(lambda td: td.total_seconds() / 60)"
   ]
  },
  {
   "cell_type": "code",
   "execution_count": 57,
   "id": "656a0089",
   "metadata": {},
   "outputs": [
    {
     "data": {
      "text/html": [
       "<div>\n",
       "<style scoped>\n",
       "    .dataframe tbody tr th:only-of-type {\n",
       "        vertical-align: middle;\n",
       "    }\n",
       "\n",
       "    .dataframe tbody tr th {\n",
       "        vertical-align: top;\n",
       "    }\n",
       "\n",
       "    .dataframe thead th {\n",
       "        text-align: right;\n",
       "    }\n",
       "</style>\n",
       "<table border=\"1\" class=\"dataframe\">\n",
       "  <thead>\n",
       "    <tr style=\"text-align: right;\">\n",
       "      <th></th>\n",
       "      <th>0</th>\n",
       "      <th>1</th>\n",
       "      <th>2</th>\n",
       "      <th>3</th>\n",
       "      <th>4</th>\n",
       "    </tr>\n",
       "  </thead>\n",
       "  <tbody>\n",
       "    <tr>\n",
       "      <th>VendorID</th>\n",
       "      <td>1</td>\n",
       "      <td>1</td>\n",
       "      <td>1</td>\n",
       "      <td>2</td>\n",
       "      <td>2</td>\n",
       "    </tr>\n",
       "    <tr>\n",
       "      <th>tpep_pickup_datetime</th>\n",
       "      <td>2022-02-01 00:06:58</td>\n",
       "      <td>2022-02-01 00:38:22</td>\n",
       "      <td>2022-02-01 00:03:20</td>\n",
       "      <td>2022-02-01 00:08:00</td>\n",
       "      <td>2022-02-01 00:06:48</td>\n",
       "    </tr>\n",
       "    <tr>\n",
       "      <th>tpep_dropoff_datetime</th>\n",
       "      <td>2022-02-01 00:19:24</td>\n",
       "      <td>2022-02-01 00:55:55</td>\n",
       "      <td>2022-02-01 00:26:59</td>\n",
       "      <td>2022-02-01 00:28:05</td>\n",
       "      <td>2022-02-01 00:33:07</td>\n",
       "    </tr>\n",
       "    <tr>\n",
       "      <th>passenger_count</th>\n",
       "      <td>1.00</td>\n",
       "      <td>1.00</td>\n",
       "      <td>1.00</td>\n",
       "      <td>1.00</td>\n",
       "      <td>1.00</td>\n",
       "    </tr>\n",
       "    <tr>\n",
       "      <th>trip_distance</th>\n",
       "      <td>5.40</td>\n",
       "      <td>6.40</td>\n",
       "      <td>12.50</td>\n",
       "      <td>9.88</td>\n",
       "      <td>12.16</td>\n",
       "    </tr>\n",
       "    <tr>\n",
       "      <th>RatecodeID</th>\n",
       "      <td>1.00</td>\n",
       "      <td>1.00</td>\n",
       "      <td>1.00</td>\n",
       "      <td>1.00</td>\n",
       "      <td>1.00</td>\n",
       "    </tr>\n",
       "    <tr>\n",
       "      <th>store_and_fwd_flag</th>\n",
       "      <td>N</td>\n",
       "      <td>N</td>\n",
       "      <td>N</td>\n",
       "      <td>N</td>\n",
       "      <td>N</td>\n",
       "    </tr>\n",
       "    <tr>\n",
       "      <th>PULocationID</th>\n",
       "      <td>138</td>\n",
       "      <td>138</td>\n",
       "      <td>138</td>\n",
       "      <td>239</td>\n",
       "      <td>138</td>\n",
       "    </tr>\n",
       "    <tr>\n",
       "      <th>DOLocationID</th>\n",
       "      <td>252</td>\n",
       "      <td>41</td>\n",
       "      <td>200</td>\n",
       "      <td>200</td>\n",
       "      <td>125</td>\n",
       "    </tr>\n",
       "    <tr>\n",
       "      <th>payment_type</th>\n",
       "      <td>1</td>\n",
       "      <td>2</td>\n",
       "      <td>2</td>\n",
       "      <td>2</td>\n",
       "      <td>1</td>\n",
       "    </tr>\n",
       "    <tr>\n",
       "      <th>fare_amount</th>\n",
       "      <td>17.00</td>\n",
       "      <td>21.00</td>\n",
       "      <td>35.50</td>\n",
       "      <td>28.00</td>\n",
       "      <td>35.50</td>\n",
       "    </tr>\n",
       "    <tr>\n",
       "      <th>extra</th>\n",
       "      <td>1.75</td>\n",
       "      <td>1.75</td>\n",
       "      <td>1.75</td>\n",
       "      <td>0.50</td>\n",
       "      <td>0.50</td>\n",
       "    </tr>\n",
       "    <tr>\n",
       "      <th>mta_tax</th>\n",
       "      <td>0.50</td>\n",
       "      <td>0.50</td>\n",
       "      <td>0.50</td>\n",
       "      <td>0.50</td>\n",
       "      <td>0.50</td>\n",
       "    </tr>\n",
       "    <tr>\n",
       "      <th>tip_amount</th>\n",
       "      <td>3.90</td>\n",
       "      <td>0.00</td>\n",
       "      <td>0.00</td>\n",
       "      <td>0.00</td>\n",
       "      <td>8.11</td>\n",
       "    </tr>\n",
       "    <tr>\n",
       "      <th>tolls_amount</th>\n",
       "      <td>0.00</td>\n",
       "      <td>6.55</td>\n",
       "      <td>6.55</td>\n",
       "      <td>3.00</td>\n",
       "      <td>0.00</td>\n",
       "    </tr>\n",
       "    <tr>\n",
       "      <th>improvement_surcharge</th>\n",
       "      <td>0.30</td>\n",
       "      <td>0.30</td>\n",
       "      <td>0.30</td>\n",
       "      <td>0.30</td>\n",
       "      <td>0.30</td>\n",
       "    </tr>\n",
       "    <tr>\n",
       "      <th>total_amount</th>\n",
       "      <td>23.45</td>\n",
       "      <td>30.10</td>\n",
       "      <td>44.60</td>\n",
       "      <td>34.80</td>\n",
       "      <td>48.66</td>\n",
       "    </tr>\n",
       "    <tr>\n",
       "      <th>congestion_surcharge</th>\n",
       "      <td>0.00</td>\n",
       "      <td>0.00</td>\n",
       "      <td>0.00</td>\n",
       "      <td>2.50</td>\n",
       "      <td>2.50</td>\n",
       "    </tr>\n",
       "    <tr>\n",
       "      <th>airport_fee</th>\n",
       "      <td>1.25</td>\n",
       "      <td>1.25</td>\n",
       "      <td>1.25</td>\n",
       "      <td>0.00</td>\n",
       "      <td>1.25</td>\n",
       "    </tr>\n",
       "    <tr>\n",
       "      <th>duration</th>\n",
       "      <td>12.43</td>\n",
       "      <td>17.55</td>\n",
       "      <td>23.65</td>\n",
       "      <td>20.08</td>\n",
       "      <td>26.32</td>\n",
       "    </tr>\n",
       "  </tbody>\n",
       "</table>\n",
       "</div>"
      ],
      "text/plain": [
       "                                         0                    1   \n",
       "VendorID                                 1                    1  \\\n",
       "tpep_pickup_datetime   2022-02-01 00:06:58  2022-02-01 00:38:22   \n",
       "tpep_dropoff_datetime  2022-02-01 00:19:24  2022-02-01 00:55:55   \n",
       "passenger_count                       1.00                 1.00   \n",
       "trip_distance                         5.40                 6.40   \n",
       "RatecodeID                            1.00                 1.00   \n",
       "store_and_fwd_flag                       N                    N   \n",
       "PULocationID                           138                  138   \n",
       "DOLocationID                           252                   41   \n",
       "payment_type                             1                    2   \n",
       "fare_amount                          17.00                21.00   \n",
       "extra                                 1.75                 1.75   \n",
       "mta_tax                               0.50                 0.50   \n",
       "tip_amount                            3.90                 0.00   \n",
       "tolls_amount                          0.00                 6.55   \n",
       "improvement_surcharge                 0.30                 0.30   \n",
       "total_amount                         23.45                30.10   \n",
       "congestion_surcharge                  0.00                 0.00   \n",
       "airport_fee                           1.25                 1.25   \n",
       "duration                             12.43                17.55   \n",
       "\n",
       "                                         2                    3   \n",
       "VendorID                                 1                    2  \\\n",
       "tpep_pickup_datetime   2022-02-01 00:03:20  2022-02-01 00:08:00   \n",
       "tpep_dropoff_datetime  2022-02-01 00:26:59  2022-02-01 00:28:05   \n",
       "passenger_count                       1.00                 1.00   \n",
       "trip_distance                        12.50                 9.88   \n",
       "RatecodeID                            1.00                 1.00   \n",
       "store_and_fwd_flag                       N                    N   \n",
       "PULocationID                           138                  239   \n",
       "DOLocationID                           200                  200   \n",
       "payment_type                             2                    2   \n",
       "fare_amount                          35.50                28.00   \n",
       "extra                                 1.75                 0.50   \n",
       "mta_tax                               0.50                 0.50   \n",
       "tip_amount                            0.00                 0.00   \n",
       "tolls_amount                          6.55                 3.00   \n",
       "improvement_surcharge                 0.30                 0.30   \n",
       "total_amount                         44.60                34.80   \n",
       "congestion_surcharge                  0.00                 2.50   \n",
       "airport_fee                           1.25                 0.00   \n",
       "duration                             23.65                20.08   \n",
       "\n",
       "                                         4  \n",
       "VendorID                                 2  \n",
       "tpep_pickup_datetime   2022-02-01 00:06:48  \n",
       "tpep_dropoff_datetime  2022-02-01 00:33:07  \n",
       "passenger_count                       1.00  \n",
       "trip_distance                        12.16  \n",
       "RatecodeID                            1.00  \n",
       "store_and_fwd_flag                       N  \n",
       "PULocationID                           138  \n",
       "DOLocationID                           125  \n",
       "payment_type                             1  \n",
       "fare_amount                          35.50  \n",
       "extra                                 0.50  \n",
       "mta_tax                               0.50  \n",
       "tip_amount                            8.11  \n",
       "tolls_amount                          0.00  \n",
       "improvement_surcharge                 0.30  \n",
       "total_amount                         48.66  \n",
       "congestion_surcharge                  2.50  \n",
       "airport_fee                           1.25  \n",
       "duration                             26.32  "
      ]
     },
     "execution_count": 57,
     "metadata": {},
     "output_type": "execute_result"
    }
   ],
   "source": [
    "df_val.head().T"
   ]
  },
  {
   "cell_type": "code",
   "execution_count": 58,
   "id": "bd4276cc",
   "metadata": {},
   "outputs": [
    {
     "data": {
      "text/plain": [
       "(2979431, 20)"
      ]
     },
     "execution_count": 58,
     "metadata": {},
     "output_type": "execute_result"
    }
   ],
   "source": [
    "df_val.shape"
   ]
  },
  {
   "cell_type": "code",
   "execution_count": 59,
   "id": "4332c35b",
   "metadata": {},
   "outputs": [],
   "source": [
    "df_val = df_val[(df_val['duration']>=1) & (df_val['duration']<=60)]"
   ]
  },
  {
   "cell_type": "code",
   "execution_count": 60,
   "id": "8b190c3c",
   "metadata": {},
   "outputs": [
    {
     "data": {
      "text/plain": [
       "(2918187, 20)"
      ]
     },
     "execution_count": 60,
     "metadata": {},
     "output_type": "execute_result"
    }
   ],
   "source": [
    "df_val.shape"
   ]
  },
  {
   "cell_type": "code",
   "execution_count": 61,
   "id": "7822e20c",
   "metadata": {},
   "outputs": [
    {
     "data": {
      "text/plain": [
       "['PULocationID', 'DOLocationID']"
      ]
     },
     "execution_count": 61,
     "metadata": {},
     "output_type": "execute_result"
    }
   ],
   "source": [
    "categorical"
   ]
  },
  {
   "cell_type": "code",
   "execution_count": 62,
   "id": "af74331e",
   "metadata": {},
   "outputs": [],
   "source": [
    "df_val.loc[:, categorical] = df_val[categorical].astype('str')"
   ]
  },
  {
   "cell_type": "code",
   "execution_count": 65,
   "id": "9a1d6704",
   "metadata": {},
   "outputs": [
    {
     "data": {
      "text/plain": [
       "PULocationID    0\n",
       "DOLocationID    0\n",
       "dtype: int64"
      ]
     },
     "execution_count": 65,
     "metadata": {},
     "output_type": "execute_result"
    }
   ],
   "source": [
    "df_filtered[categorical].isnull().sum()"
   ]
  },
  {
   "cell_type": "code",
   "execution_count": 66,
   "id": "d0d83623",
   "metadata": {},
   "outputs": [
    {
     "data": {
      "text/plain": [
       "PULocationID    object\n",
       "DOLocationID    object\n",
       "dtype: object"
      ]
     },
     "execution_count": 66,
     "metadata": {},
     "output_type": "execute_result"
    }
   ],
   "source": [
    "df_filtered[categorical].dtypes"
   ]
  },
  {
   "cell_type": "code",
   "execution_count": 67,
   "id": "0298a705",
   "metadata": {},
   "outputs": [],
   "source": [
    "val_dicts = df_val[categorical].to_dict(orient='records') "
   ]
  },
  {
   "cell_type": "code",
   "execution_count": 73,
   "id": "95f742f8",
   "metadata": {},
   "outputs": [],
   "source": [
    "X_val = dv.transform(val_dicts)"
   ]
  },
  {
   "cell_type": "code",
   "execution_count": 74,
   "id": "bd88c0a6",
   "metadata": {},
   "outputs": [
    {
     "data": {
      "text/plain": [
       "(2918187, 514)"
      ]
     },
     "execution_count": 74,
     "metadata": {},
     "output_type": "execute_result"
    }
   ],
   "source": [
    "X_val.shape"
   ]
  },
  {
   "cell_type": "code",
   "execution_count": 75,
   "id": "2111dc65",
   "metadata": {},
   "outputs": [
    {
     "data": {
      "text/plain": [
       "(2421440, 515)"
      ]
     },
     "execution_count": 75,
     "metadata": {},
     "output_type": "execute_result"
    }
   ],
   "source": [
    "X_train.shape"
   ]
  },
  {
   "cell_type": "code",
   "execution_count": 76,
   "id": "ad428223",
   "metadata": {},
   "outputs": [
    {
     "ename": "ValueError",
     "evalue": "X has 514 features, but LinearRegression is expecting 515 features as input.",
     "output_type": "error",
     "traceback": [
      "\u001b[0;31m---------------------------------------------------------------------------\u001b[0m",
      "\u001b[0;31mValueError\u001b[0m                                Traceback (most recent call last)",
      "Cell \u001b[0;32mIn[76], line 1\u001b[0m\n\u001b[0;32m----> 1\u001b[0m y_pred_val \u001b[38;5;241m=\u001b[39m \u001b[43mlr\u001b[49m\u001b[38;5;241;43m.\u001b[39;49m\u001b[43mpredict\u001b[49m\u001b[43m(\u001b[49m\u001b[43mX_val\u001b[49m\u001b[43m)\u001b[49m\n",
      "File \u001b[0;32m~/anaconda3/envs/exp-tracking-env/lib/python3.9/site-packages/sklearn/linear_model/_base.py:354\u001b[0m, in \u001b[0;36mLinearModel.predict\u001b[0;34m(self, X)\u001b[0m\n\u001b[1;32m    340\u001b[0m \u001b[38;5;28;01mdef\u001b[39;00m \u001b[38;5;21mpredict\u001b[39m(\u001b[38;5;28mself\u001b[39m, X):\n\u001b[1;32m    341\u001b[0m \u001b[38;5;250m    \u001b[39m\u001b[38;5;124;03m\"\"\"\u001b[39;00m\n\u001b[1;32m    342\u001b[0m \u001b[38;5;124;03m    Predict using the linear model.\u001b[39;00m\n\u001b[1;32m    343\u001b[0m \n\u001b[0;32m   (...)\u001b[0m\n\u001b[1;32m    352\u001b[0m \u001b[38;5;124;03m        Returns predicted values.\u001b[39;00m\n\u001b[1;32m    353\u001b[0m \u001b[38;5;124;03m    \"\"\"\u001b[39;00m\n\u001b[0;32m--> 354\u001b[0m     \u001b[38;5;28;01mreturn\u001b[39;00m \u001b[38;5;28;43mself\u001b[39;49m\u001b[38;5;241;43m.\u001b[39;49m\u001b[43m_decision_function\u001b[49m\u001b[43m(\u001b[49m\u001b[43mX\u001b[49m\u001b[43m)\u001b[49m\n",
      "File \u001b[0;32m~/anaconda3/envs/exp-tracking-env/lib/python3.9/site-packages/sklearn/linear_model/_base.py:337\u001b[0m, in \u001b[0;36mLinearModel._decision_function\u001b[0;34m(self, X)\u001b[0m\n\u001b[1;32m    334\u001b[0m \u001b[38;5;28;01mdef\u001b[39;00m \u001b[38;5;21m_decision_function\u001b[39m(\u001b[38;5;28mself\u001b[39m, X):\n\u001b[1;32m    335\u001b[0m     check_is_fitted(\u001b[38;5;28mself\u001b[39m)\n\u001b[0;32m--> 337\u001b[0m     X \u001b[38;5;241m=\u001b[39m \u001b[38;5;28;43mself\u001b[39;49m\u001b[38;5;241;43m.\u001b[39;49m\u001b[43m_validate_data\u001b[49m\u001b[43m(\u001b[49m\u001b[43mX\u001b[49m\u001b[43m,\u001b[49m\u001b[43m \u001b[49m\u001b[43maccept_sparse\u001b[49m\u001b[38;5;241;43m=\u001b[39;49m\u001b[43m[\u001b[49m\u001b[38;5;124;43m\"\u001b[39;49m\u001b[38;5;124;43mcsr\u001b[39;49m\u001b[38;5;124;43m\"\u001b[39;49m\u001b[43m,\u001b[49m\u001b[43m \u001b[49m\u001b[38;5;124;43m\"\u001b[39;49m\u001b[38;5;124;43mcsc\u001b[39;49m\u001b[38;5;124;43m\"\u001b[39;49m\u001b[43m,\u001b[49m\u001b[43m \u001b[49m\u001b[38;5;124;43m\"\u001b[39;49m\u001b[38;5;124;43mcoo\u001b[39;49m\u001b[38;5;124;43m\"\u001b[39;49m\u001b[43m]\u001b[49m\u001b[43m,\u001b[49m\u001b[43m \u001b[49m\u001b[43mreset\u001b[49m\u001b[38;5;241;43m=\u001b[39;49m\u001b[38;5;28;43;01mFalse\u001b[39;49;00m\u001b[43m)\u001b[49m\n\u001b[1;32m    338\u001b[0m     \u001b[38;5;28;01mreturn\u001b[39;00m safe_sparse_dot(X, \u001b[38;5;28mself\u001b[39m\u001b[38;5;241m.\u001b[39mcoef_\u001b[38;5;241m.\u001b[39mT, dense_output\u001b[38;5;241m=\u001b[39m\u001b[38;5;28;01mTrue\u001b[39;00m) \u001b[38;5;241m+\u001b[39m \u001b[38;5;28mself\u001b[39m\u001b[38;5;241m.\u001b[39mintercept_\n",
      "File \u001b[0;32m~/anaconda3/envs/exp-tracking-env/lib/python3.9/site-packages/sklearn/base.py:588\u001b[0m, in \u001b[0;36mBaseEstimator._validate_data\u001b[0;34m(self, X, y, reset, validate_separately, **check_params)\u001b[0m\n\u001b[1;32m    585\u001b[0m     out \u001b[38;5;241m=\u001b[39m X, y\n\u001b[1;32m    587\u001b[0m \u001b[38;5;28;01mif\u001b[39;00m \u001b[38;5;129;01mnot\u001b[39;00m no_val_X \u001b[38;5;129;01mand\u001b[39;00m check_params\u001b[38;5;241m.\u001b[39mget(\u001b[38;5;124m\"\u001b[39m\u001b[38;5;124mensure_2d\u001b[39m\u001b[38;5;124m\"\u001b[39m, \u001b[38;5;28;01mTrue\u001b[39;00m):\n\u001b[0;32m--> 588\u001b[0m     \u001b[38;5;28;43mself\u001b[39;49m\u001b[38;5;241;43m.\u001b[39;49m\u001b[43m_check_n_features\u001b[49m\u001b[43m(\u001b[49m\u001b[43mX\u001b[49m\u001b[43m,\u001b[49m\u001b[43m \u001b[49m\u001b[43mreset\u001b[49m\u001b[38;5;241;43m=\u001b[39;49m\u001b[43mreset\u001b[49m\u001b[43m)\u001b[49m\n\u001b[1;32m    590\u001b[0m \u001b[38;5;28;01mreturn\u001b[39;00m out\n",
      "File \u001b[0;32m~/anaconda3/envs/exp-tracking-env/lib/python3.9/site-packages/sklearn/base.py:389\u001b[0m, in \u001b[0;36mBaseEstimator._check_n_features\u001b[0;34m(self, X, reset)\u001b[0m\n\u001b[1;32m    386\u001b[0m     \u001b[38;5;28;01mreturn\u001b[39;00m\n\u001b[1;32m    388\u001b[0m \u001b[38;5;28;01mif\u001b[39;00m n_features \u001b[38;5;241m!=\u001b[39m \u001b[38;5;28mself\u001b[39m\u001b[38;5;241m.\u001b[39mn_features_in_:\n\u001b[0;32m--> 389\u001b[0m     \u001b[38;5;28;01mraise\u001b[39;00m \u001b[38;5;167;01mValueError\u001b[39;00m(\n\u001b[1;32m    390\u001b[0m         \u001b[38;5;124mf\u001b[39m\u001b[38;5;124m\"\u001b[39m\u001b[38;5;124mX has \u001b[39m\u001b[38;5;132;01m{\u001b[39;00mn_features\u001b[38;5;132;01m}\u001b[39;00m\u001b[38;5;124m features, but \u001b[39m\u001b[38;5;132;01m{\u001b[39;00m\u001b[38;5;28mself\u001b[39m\u001b[38;5;241m.\u001b[39m\u001b[38;5;18m__class__\u001b[39m\u001b[38;5;241m.\u001b[39m\u001b[38;5;18m__name__\u001b[39m\u001b[38;5;132;01m}\u001b[39;00m\u001b[38;5;124m \u001b[39m\u001b[38;5;124m\"\u001b[39m\n\u001b[1;32m    391\u001b[0m         \u001b[38;5;124mf\u001b[39m\u001b[38;5;124m\"\u001b[39m\u001b[38;5;124mis expecting \u001b[39m\u001b[38;5;132;01m{\u001b[39;00m\u001b[38;5;28mself\u001b[39m\u001b[38;5;241m.\u001b[39mn_features_in_\u001b[38;5;132;01m}\u001b[39;00m\u001b[38;5;124m features as input.\u001b[39m\u001b[38;5;124m\"\u001b[39m\n\u001b[1;32m    392\u001b[0m     )\n",
      "\u001b[0;31mValueError\u001b[0m: X has 514 features, but LinearRegression is expecting 515 features as input."
     ]
    }
   ],
   "source": [
    "y_pred_val = lr.predict(X_val)"
   ]
  },
  {
   "cell_type": "code",
   "execution_count": null,
   "id": "fd5bc6c4",
   "metadata": {},
   "outputs": [],
   "source": []
  }
 ],
 "metadata": {
  "kernelspec": {
   "display_name": "Python 3 (ipykernel)",
   "language": "python",
   "name": "python3"
  },
  "language_info": {
   "codemirror_mode": {
    "name": "ipython",
    "version": 3
   },
   "file_extension": ".py",
   "mimetype": "text/x-python",
   "name": "python",
   "nbconvert_exporter": "python",
   "pygments_lexer": "ipython3",
   "version": "3.9.16"
  }
 },
 "nbformat": 4,
 "nbformat_minor": 5
}
